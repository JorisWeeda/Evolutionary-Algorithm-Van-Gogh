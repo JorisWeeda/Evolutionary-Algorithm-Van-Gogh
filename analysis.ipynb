{
 "cells": [
  {
   "cell_type": "code",
   "execution_count": null,
   "metadata": {
    "pycharm": {
     "name": "#%%\n"
    }
   },
   "outputs": [],
   "source": [
    "import sys\n",
    "print(sys.version)\n",
    "\n",
    "from PIL import Image\n",
    "from vangogh.evolution import Evolution\n",
    "from vangogh.fitness import draw_voronoi_image\n",
    "from vangogh.util import IMAGE_SHRINK_SCALE, REFERENCE_IMAGE\n",
    "from IPython.display import display, clear_output\n",
    "import numpy as np\n",
    "import pandas as pd\n",
    "import seaborn as sns\n",
    "import matplotlib.pyplot as plt\n",
    "from time import time\n",
    "from mpl_toolkits.axes_grid1 import ImageGrid\n",
    "plt.style.use('classic')\n",
    "%matplotlib inline\n",
    "\n",
    "from multiprocess import Pool, cpu_count\n"
   ]
  },
  {
   "cell_type": "code",
   "execution_count": null,
   "metadata": {},
   "outputs": [],
   "source": [
    "display(REFERENCE_IMAGE)"
   ]
  },
  {
   "cell_type": "code",
   "execution_count": null,
   "metadata": {},
   "outputs": [],
   "source": [
    "# Enable to show live rendering of best individual during optimization\n",
    "display_output = False\n",
    "# Enable to save progress images at every 50th generation\n",
    "save_progress = True\n",
    "# Enable to print verbose output per generation\n",
    "verbose_output = True"
   ]
  },
  {
   "cell_type": "code",
   "execution_count": null,
   "metadata": {},
   "outputs": [],
   "source": [
    "def reporter(time, evo):\n",
    "    if save_progress or display_output:\n",
    "        elite = draw_voronoi_image(evo.elite, evo.reference_image.width, evo.reference_image.height, scale=IMAGE_SHRINK_SCALE)\n",
    "    if display_output:\n",
    "        clear_output()\n",
    "        display(elite)\n",
    "    if save_progress and time[\"num-generations\"] % 50 == 0:\n",
    "        elite.save(f\"./img/van_gogh_intermediate_{evo.seed}_{evo.population_size}_{evo.crossover_method}_{evo.num_points}_{evo.initialization}_{evo.generation_budget}_{time['num-generations']:05d}.png\")\n",
    "\n",
    "def run_algorithm(settings):\n",
    "    seed, population_size, crossover_method, num_points, initialization, generation_budget = settings\n",
    "    start = time()\n",
    "    \n",
    "    data = []\n",
    "    evo = Evolution(num_points,\n",
    "                    REFERENCE_IMAGE,\n",
    "                    population_size=population_size,\n",
    "                    generation_reporter=reporter,\n",
    "                    crossover_method=crossover_method,\n",
    "                    seed=seed,\n",
    "                    initialization=initialization,\n",
    "                    generation_budget=generation_budget,\n",
    "                    num_features_mutation_strength=.25,\n",
    "                    selection_name='tournament_4',\n",
    "                    verbose=verbose_output)\n",
    "    data = evo.run()\n",
    "    time_spent = time() - start\n",
    "    print(f\"Done: run {seed} - pop {population_size} - crossover {crossover_method} - num. points {num_points} - initialization {initialization} - in {int(time_spent)} seconds\")\n",
    "    \n",
    "    return data"
   ]
  },
  {
   "cell_type": "markdown",
   "metadata": {},
   "source": [
    "## Running a single instance"
   ]
  },
  {
   "cell_type": "code",
   "execution_count": null,
   "metadata": {
    "scrolled": true
   },
   "outputs": [],
   "source": [
    "%%time\n",
    "data = run_algorithm((0, 200, \"RBFNX\", 200, 'RANDOM', 500))\n",
    "df = pd.DataFrame(data)"
   ]
  },
  {
   "cell_type": "markdown",
   "metadata": {},
   "source": [
    "## Running a sweep of settings"
   ]
  },
  {
   "cell_type": "code",
   "execution_count": null,
   "metadata": {},
   "outputs": [],
   "source": [
    "# Plot the first plot\n",
    "sns.set_style(\"whitegrid\")\n",
    "custom_palette = sns.color_palette(\"husl\", 3)\n",
    "\n",
    "# Plot the second plot\n",
    "plt.figure()  # Create a new figure\n",
    "sns.lineplot(data=df, x='num-generations', y='rbfn-loss', color='blue')  # Plot the 'rbfn-losses' column\n",
    "plt.title('RBFN Losses Over Time', fontsize=16)\n",
    "plt.xlabel('Number of Generations', fontsize=14)\n",
    "plt.ylabel('RBFN Losses', fontsize=14)\n",
    "plt.xticks(fontsize=12)\n",
    "plt.yticks(fontsize=12)\n",
    "plt.tight_layout()\n",
    "plt.show()\n"
   ]
  },
  {
   "cell_type": "code",
   "execution_count": null,
   "metadata": {
    "scrolled": true
   },
   "outputs": [],
   "source": [
    "%%time\n",
    "\n",
    "generation_budget = 100\n",
    " \n",
    "data = []\n",
    "for seed in range(1):\n",
    "    for population_size in (100,):\n",
    "        for crossover_method in (\"ONE_POINT\", \"TWO_POINT\", \"UNIFORM\", \"RBFNX\"):\n",
    "            for initialization in (\"RANDOM\",):\n",
    "                for num_points in (500, ):\n",
    "                    data.extend(run_algorithm((seed, population_size, crossover_method, num_points, initialization, generation_budget)))"
   ]
  },
  {
   "cell_type": "markdown",
   "metadata": {},
   "source": [
    "## Evaluating the results"
   ]
  },
  {
   "cell_type": "code",
   "execution_count": null,
   "metadata": {
    "pycharm": {
     "name": "#%%\n"
    }
   },
   "outputs": [],
   "source": [
    "df = pd.DataFrame(data)\n",
    "df[\"time-elapsed\"] = df[\"time-elapsed\"].round(0)"
   ]
  },
  {
   "cell_type": "code",
   "execution_count": null,
   "metadata": {},
   "outputs": [],
   "source": [
    "df = pd.DataFrame(data)\n",
    "\n",
    "df_stats = df.groupby(['num-generations', 'crossover-method']).agg(\n",
    "    mean_fitness=('best-fitness', 'mean'),\n",
    "    std_fitness=('best-fitness', 'std')\n",
    ").reset_index()\n",
    "\n",
    "sns.set_style(\"whitegrid\")\n",
    "custom_palette = sns.color_palette(\"husl\", 3)\n",
    "\n",
    "plt.figure(figsize=(10, 6))\n",
    "\n",
    "for method, color in zip(df_stats['crossover-method'].unique(), custom_palette):\n",
    "    method_data = df_stats[df_stats['crossover-method'] == method]\n",
    "    plt.plot(method_data['num-generations'], method_data['mean_fitness'], label=method, color=color, linewidth=2)\n",
    "    plt.fill_between(\n",
    "        method_data['num-generations'],\n",
    "        method_data['mean_fitness'] - method_data['std_fitness'],\n",
    "        method_data['mean_fitness'] + method_data['std_fitness'],\n",
    "        color=color,\n",
    "        alpha=0.3\n",
    "    )\n",
    "\n",
    "plt.title('Fitness Convergence Over Time for Each Crossover Method', fontsize=16)\n",
    "plt.xlabel('Number of Generations', fontsize=14)\n",
    "plt.ylabel('Best Fitness', fontsize=14)\n",
    "plt.xticks(fontsize=12)\n",
    "plt.yticks(fontsize=12)\n",
    "plt.legend(title='Crossover Method', title_fontsize='14', fontsize='12', loc='best')\n",
    "plt.tight_layout()\n",
    "plt.show()\n",
    "\n",
    "# Plot the RBFN losses over time\n",
    "plt.figure(figsize=(10, 6))\n",
    "sns.lineplot(data=df, x='num-generations', y='rbfn-loss', color='blue')\n",
    "plt.title('RBFN Losses Over Time', fontsize=16)\n",
    "plt.xlabel('Number of Generations', fontsize=14)\n",
    "plt.ylabel('RBFN Losses', fontsize=14)\n",
    "plt.xticks(fontsize=12)\n",
    "plt.yticks(fontsize=12)\n",
    "plt.tight_layout()\n",
    "plt.show()"
   ]
  },
  {
   "cell_type": "markdown",
   "metadata": {},
   "source": [
    "## Displaying the best instances over time"
   ]
  },
  {
   "cell_type": "code",
   "execution_count": null,
   "metadata": {},
   "outputs": [],
   "source": [
    "def show_progress_over_time(settings, selection=None, grid=(5,4)):\n",
    "    seed, population_size, crossover_method, num_points, initialization, generation_budget = settings\n",
    "    fig = plt.figure(figsize=(20., 20.))\n",
    "    grid = ImageGrid(fig, 111, \n",
    "                     nrows_ncols=grid,\n",
    "                     axes_pad=0.1,  # pad between axes\n",
    "                     )\n",
    "\n",
    "    if selection is None:\n",
    "        selection = range(50, generation_budget + 50, 50)\n",
    "    \n",
    "    img_arr = [Image.open((f\"./img/van_gogh_intermediate_{seed}_{population_size}_{crossover_method}_{num_points}_{initialization}_{generation_budget}_{i:05d}.png\")) for i in selection]\n",
    "    for ax, im in zip(grid, img_arr):\n",
    "        ax.imshow(im)\n",
    "        ax.get_xaxis().set_visible(False)\n",
    "        ax.get_yaxis().set_visible(False)\n",
    "\n",
    "    plt.show()"
   ]
  },
  {
   "cell_type": "code",
   "execution_count": null,
   "metadata": {},
   "outputs": [],
   "source": [
    "show_progress_over_time((0, 100, 'ONE_POINT', 100, \"RANDOM\", 500), grid=(1,5))"
   ]
  },
  {
   "cell_type": "code",
   "execution_count": null,
   "metadata": {},
   "outputs": [],
   "source": [
    "show_progress_over_time((0, 100, 'UNIFORM', 100, \"RANDOM\", 500), grid=(1,5))"
   ]
  },
  {
   "cell_type": "code",
   "execution_count": null,
   "metadata": {},
   "outputs": [],
   "source": [
    "show_progress_over_time((0, 100, 'RBFNX', 100, \"RANDOM\", 500), grid=(1,5))"
   ]
  }
 ],
 "metadata": {
  "kernelspec": {
   "display_name": "Python 3",
   "language": "python",
   "name": "python3"
  },
  "language_info": {
   "codemirror_mode": {
    "name": "ipython",
    "version": 3
   },
   "file_extension": ".py",
   "mimetype": "text/x-python",
   "name": "python",
   "nbconvert_exporter": "python",
   "pygments_lexer": "ipython3",
   "version": "3.8.10"
  }
 },
 "nbformat": 4,
 "nbformat_minor": 1
}
